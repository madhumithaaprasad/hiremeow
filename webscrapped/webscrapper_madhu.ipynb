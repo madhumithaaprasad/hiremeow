{
 "cells": [
  {
   "cell_type": "code",
   "execution_count": 2,
   "id": "f6450679-e549-44c7-bf21-6f6e149e4821",
   "metadata": {},
   "outputs": [
    {
     "name": "stdout",
     "output_type": "stream",
     "text": [
      "Requirement already satisfied: requests in c:\\users\\madhumithaa\\anaconda3\\lib\\site-packages (2.32.3)\n",
      "Requirement already satisfied: beautifulsoup4 in c:\\users\\madhumithaa\\anaconda3\\lib\\site-packages (4.12.3)\n",
      "Requirement already satisfied: pandas in c:\\users\\madhumithaa\\anaconda3\\lib\\site-packages (2.2.2)\n",
      "Requirement already satisfied: charset-normalizer<4,>=2 in c:\\users\\madhumithaa\\anaconda3\\lib\\site-packages (from requests) (3.3.2)\n",
      "Requirement already satisfied: idna<4,>=2.5 in c:\\users\\madhumithaa\\anaconda3\\lib\\site-packages (from requests) (3.7)\n",
      "Requirement already satisfied: urllib3<3,>=1.21.1 in c:\\users\\madhumithaa\\anaconda3\\lib\\site-packages (from requests) (2.2.3)\n",
      "Requirement already satisfied: certifi>=2017.4.17 in c:\\users\\madhumithaa\\anaconda3\\lib\\site-packages (from requests) (2024.12.14)\n",
      "Requirement already satisfied: soupsieve>1.2 in c:\\users\\madhumithaa\\anaconda3\\lib\\site-packages (from beautifulsoup4) (2.5)\n",
      "Requirement already satisfied: numpy>=1.26.0 in c:\\users\\madhumithaa\\anaconda3\\lib\\site-packages (from pandas) (1.26.4)\n",
      "Requirement already satisfied: python-dateutil>=2.8.2 in c:\\users\\madhumithaa\\anaconda3\\lib\\site-packages (from pandas) (2.9.0.post0)\n",
      "Requirement already satisfied: pytz>=2020.1 in c:\\users\\madhumithaa\\anaconda3\\lib\\site-packages (from pandas) (2024.1)\n",
      "Requirement already satisfied: tzdata>=2022.7 in c:\\users\\madhumithaa\\anaconda3\\lib\\site-packages (from pandas) (2023.3)\n",
      "Requirement already satisfied: six>=1.5 in c:\\users\\madhumithaa\\anaconda3\\lib\\site-packages (from python-dateutil>=2.8.2->pandas) (1.16.0)\n"
     ]
    }
   ],
   "source": [
    "!pip install requests beautifulsoup4 pandas"
   ]
  },
  {
   "cell_type": "code",
   "execution_count": 6,
   "id": "75e03204-694b-451a-bbc8-85c6fd1e127d",
   "metadata": {},
   "outputs": [
    {
     "name": "stdout",
     "output_type": "stream",
     "text": [
      " Cleaned dataset saved as clean_behavioral_interview_questions.csv\n"
     ]
    },
    {
     "data": {
      "text/html": [
       "<div>\n",
       "<style scoped>\n",
       "    .dataframe tbody tr th:only-of-type {\n",
       "        vertical-align: middle;\n",
       "    }\n",
       "\n",
       "    .dataframe tbody tr th {\n",
       "        vertical-align: top;\n",
       "    }\n",
       "\n",
       "    .dataframe thead th {\n",
       "        text-align: right;\n",
       "    }\n",
       "</style>\n",
       "<table border=\"1\" class=\"dataframe\">\n",
       "  <thead>\n",
       "    <tr style=\"text-align: right;\">\n",
       "      <th></th>\n",
       "      <th>Dataset ID</th>\n",
       "      <th>Question</th>\n",
       "      <th>Category</th>\n",
       "      <th>Sub-Category</th>\n",
       "      <th>Difficulty</th>\n",
       "      <th>Source</th>\n",
       "      <th>Company</th>\n",
       "    </tr>\n",
       "  </thead>\n",
       "  <tbody>\n",
       "    <tr>\n",
       "      <th>0</th>\n",
       "      <td>#BHQ1</td>\n",
       "      <td>How do you handle a challenge? Tell me about a...</td>\n",
       "      <td>Behavioral</td>\n",
       "      <td>General</td>\n",
       "      <td>N/A</td>\n",
       "      <td>GeeksforGeeks</td>\n",
       "      <td>General</td>\n",
       "    </tr>\n",
       "    <tr>\n",
       "      <th>1</th>\n",
       "      <td>#BHQ2</td>\n",
       "      <td>Can you work effectively under pressure? If ye...</td>\n",
       "      <td>Behavioral</td>\n",
       "      <td>General</td>\n",
       "      <td>N/A</td>\n",
       "      <td>GeeksforGeeks</td>\n",
       "      <td>General</td>\n",
       "    </tr>\n",
       "    <tr>\n",
       "      <th>2</th>\n",
       "      <td>#BHQ3</td>\n",
       "      <td>When was the last time you made a mistake and ...</td>\n",
       "      <td>Behavioral</td>\n",
       "      <td>General</td>\n",
       "      <td>N/A</td>\n",
       "      <td>GeeksforGeeks</td>\n",
       "      <td>General</td>\n",
       "    </tr>\n",
       "    <tr>\n",
       "      <th>3</th>\n",
       "      <td>#BHQ4</td>\n",
       "      <td>How do you set goals? Give an example.</td>\n",
       "      <td>Behavioral</td>\n",
       "      <td>General</td>\n",
       "      <td>N/A</td>\n",
       "      <td>GeeksforGeeks</td>\n",
       "      <td>General</td>\n",
       "    </tr>\n",
       "    <tr>\n",
       "      <th>4</th>\n",
       "      <td>#BHQ5</td>\n",
       "      <td>Tell me a decision that other team members or ...</td>\n",
       "      <td>Behavioral</td>\n",
       "      <td>General</td>\n",
       "      <td>N/A</td>\n",
       "      <td>GeeksforGeeks</td>\n",
       "      <td>General</td>\n",
       "    </tr>\n",
       "  </tbody>\n",
       "</table>\n",
       "</div>"
      ],
      "text/plain": [
       "  Dataset ID                                           Question    Category  \\\n",
       "0      #BHQ1  How do you handle a challenge? Tell me about a...  Behavioral   \n",
       "1      #BHQ2  Can you work effectively under pressure? If ye...  Behavioral   \n",
       "2      #BHQ3  When was the last time you made a mistake and ...  Behavioral   \n",
       "3      #BHQ4             How do you set goals? Give an example.  Behavioral   \n",
       "4      #BHQ5  Tell me a decision that other team members or ...  Behavioral   \n",
       "\n",
       "  Sub-Category Difficulty         Source  Company  \n",
       "0      General        N/A  GeeksforGeeks  General  \n",
       "1      General        N/A  GeeksforGeeks  General  \n",
       "2      General        N/A  GeeksforGeeks  General  \n",
       "3      General        N/A  GeeksforGeeks  General  \n",
       "4      General        N/A  GeeksforGeeks  General  "
      ]
     },
     "metadata": {},
     "output_type": "display_data"
    }
   ],
   "source": [
    "import requests\n",
    "from bs4 import BeautifulSoup\n",
    "import pandas as pd\n",
    "import re\n",
    "\n",
    "# Replace with the actual URL\n",
    "URL = \"https://www.geeksforgeeks.org/behavioral-interview-questions-and-answers/\"\n",
    "\n",
    "headers = {\"User-Agent\": \"Mozilla/5.0\"}\n",
    "response = requests.get(URL, headers=headers)\n",
    "\n",
    "if response.status_code == 200:\n",
    "    soup = BeautifulSoup(response.text, \"html.parser\")\n",
    "\n",
    "    # Extract all text elements from relevant tags\n",
    "    potential_questions = []\n",
    "\n",
    "    # Look for questions inside <p>, <li>, and <h2>/<h3> (common question formats)\n",
    "    for tag in soup.find_all([\"p\", \"li\", \"h2\", \"h3\"]):\n",
    "        text = tag.get_text(strip=True)\n",
    "        text = re.sub(r\"^\\d+[\\).\\s]+\", \"\", text)  # Remove leading numbers\n",
    "\n",
    "        # Filtering logic:\n",
    "        if text.endswith(\"?\") or re.search(r\"\\b(Describe|Tell me about|How would you|Give an example|Have you ever)\\b\", text, re.IGNORECASE):\n",
    "            potential_questions.append(text)\n",
    "\n",
    "    extracted_data = []\n",
    "    index = 1\n",
    "\n",
    "    for question in potential_questions:\n",
    "        extracted_data.append({\n",
    "            \"Dataset ID\": f\"#BHQ{index}\",\n",
    "            \"Question\": question,\n",
    "            \"Category\": \"Behavioral\",\n",
    "            \"Sub-Category\": \"General\",\n",
    "            \"Difficulty\": \"N/A\",\n",
    "            \"Source\": \"GeeksforGeeks\",\n",
    "            \"Company\": \"General\"\n",
    "        })\n",
    "        index += 1\n",
    "\n",
    "    # Convert to DataFrame\n",
    "    df = pd.DataFrame(extracted_data)\n",
    "\n",
    "    # Save as CSV\n",
    "    df.to_csv(\"clean_behavioral_interview_questions.csv\", index=False)\n",
    "\n",
    "    print(\" Cleaned dataset saved as clean_behavioral_interview_questions.csv\")\n",
    "    display(df.head())  # Show first few rows for verification\n",
    "\n",
    "else:\n",
    "    print(\"Failed to retrieve the webpage\")\n"
   ]
  },
  {
   "cell_type": "code",
   "execution_count": 4,
   "id": "bc8b0b2e-ef33-44d8-8439-e721b3803a48",
   "metadata": {},
   "outputs": [
    {
     "data": {
      "text/html": [
       "<a href='clean_behavioral_interview_questions.csv' target='_blank'>clean_behavioral_interview_questions.csv</a><br>"
      ],
      "text/plain": [
       "C:\\Users\\Madhumithaa\\clean_behavioral_interview_questions.csv"
      ]
     },
     "execution_count": 4,
     "metadata": {},
     "output_type": "execute_result"
    }
   ],
   "source": [
    "from IPython.display import FileLink\n",
    "\n",
    "# Create a downloadable link to the file\n",
    "FileLink(\"clean_behavioral_interview_questions.csv\")\n"
   ]
  },
  {
   "cell_type": "code",
   "execution_count": 5,
   "id": "3e73d164-0e1b-42ab-9284-3431b2fb7d87",
   "metadata": {},
   "outputs": [
    {
     "data": {
      "text/plain": [
       "',Dataset ID,Question,Category,Sub-Category,Difficulty,Source,Company\\r\\n0,#BHQ1,How do you handle a challenge? Tell me about a situation where you faced a challenge.,Behavioral,General,N/A,GeeksforGeeks,General\\r\\n1,#BHQ2,\"Can you work effectively under pressure? If yes, how?\",Behavioral,General,N/A,GeeksforGeeks,General\\r\\n2,#BHQ3,When was the last time you made a mistake and how did you handle it?,Behavioral,General,N/A,GeeksforGeeks,General\\r\\n3,#BHQ4,How do you set goals? Give an example.,Behavioral,General,N/A,GeeksforGeeks,General\\r\\n4,#BHQ5,Tell me a decision that other team members or colleagues didn’t like. How did you implement it?,Behavioral,General,N/A,GeeksforGeeks,General\\r\\n5,#BHQ6,Are you someone who works in a team or like solo working? Give an example of how you worked on a team.,Behavioral,General,N/A,GeeksforGeeks,General\\r\\n6,#BHQ7,What do you do when your opinions collide with someone else?,Behavioral,General,N/A,GeeksforGeeks,General\\r\\n7,#BHQ8,Give an example of how you were able to motivate employees or co-workers.,Behavioral,General,N/A,GeeksforGeeks,General\\r\\n8,#BHQ9,Have you handled a difficult situation? How?,Behavioral,General,N/A,GeeksforGeeks,General\\r\\n9,#BHQ10,How to Answer Behavioral Interview Questions With the STAR Method?,Behavioral,General,N/A,GeeksforGeeks,General\\r\\n10,#BHQ11,S stands for Situation:Describe the situation in which the situation happened.T stands for Task:Describe the task you were given to solve the issue at hand.A stands for Action:Describe the action you took to achieve the aforementioned task.R stands for ResultsDiscuss the result of your actions in as much detail as possible. How did your actions help the company or organization run more smoothly?,Behavioral,General,N/A,GeeksforGeeks,General\\r\\n11,#BHQ12,Describe a project or situation that best illustrates your analytical skills. What did you do?,Behavioral,General,N/A,GeeksforGeeks,General\\r\\n12,#BHQ13,\"Describe a time when you had to analyze data and make a recommendation. What kind of thought process did you engage in? Was the suggestion accepted? If not, why not?\",Behavioral,General,N/A,GeeksforGeeks,General\\r\\n13,#BHQ14,Describe a time when you had to solve a difficult problem. What exactly did you do? What was the end result? What would you have done differently?,Behavioral,General,N/A,GeeksforGeeks,General\\r\\n14,#BHQ15,How do you research a problem before making a decision? Why?,Behavioral,General,N/A,GeeksforGeeks,General\\r\\n15,#BHQ16,When was the last time you had to deal with an angry customer? What exactly did you do? How did things turn out?,Behavioral,General,N/A,GeeksforGeeks,General\\r\\n16,#BHQ17,\"If you have inherited a customer, tell me about that experience. What steps did you take to establish rapport with them? What did you do to gain their trust?\",Behavioral,General,N/A,GeeksforGeeks,General\\r\\n17,#BHQ18,How have you managed a previous situation in which your client changed the brief or “moved the goalposts”?,Behavioral,General,N/A,GeeksforGeeks,General\\r\\n18,#BHQ19,Describe a time when you went above and beyond to ensure a customer received the best possible service from you and the organization. What was their response?,Behavioral,General,N/A,GeeksforGeeks,General\\r\\n19,#BHQ20,When was the last time you went out on a limb to defend a customer? What occurred?,Behavioral,General,N/A,GeeksforGeeks,General\\r\\n20,#BHQ21,Tell me about a recent successful speech or presentation you gave.,Behavioral,General,N/A,GeeksforGeeks,General\\r\\n21,#BHQ22,When was the last time you had to give a presentation to a group of people with little or no preparation? What challenges did you face? How did you deal with them?,Behavioral,General,N/A,GeeksforGeeks,General\\r\\n22,#BHQ23,Have you ever had to “sell” a concept to colleagues? How did you manage it?,Behavioral,General,N/A,GeeksforGeeks,General\\r\\n23,#BHQ24,\"Tell me about a time when you were able to effectively communicate with another person, even if that person did not like you (or vice versa).\",Behavioral,General,N/A,GeeksforGeeks,General\\r\\n24,#BHQ25,Have you ever encountered any hurdles or difficulties in communicating your ideas to a manager?,Behavioral,General,N/A,GeeksforGeeks,General\\r\\n25,#BHQ26,Tell me about a time when you had to use your written communication skills to convey an important message.,Behavioral,General,N/A,GeeksforGeeks,General\\r\\n26,#BHQ27,How do you clear a behavioral interview?,Behavioral,General,N/A,GeeksforGeeks,General\\r\\n27,#BHQ28,How do you pass behavioral interview questions?,Behavioral,General,N/A,GeeksforGeeks,General\\r\\n28,#BHQ29,What things you should avoid in a behavioural interview?,Behavioral,General,N/A,GeeksforGeeks,General\\r\\n29,#BHQ30,Why are behavioural interview questions important?,Behavioral,General,N/A,GeeksforGeeks,General\\r\\n30,#BHQ31,How to ace behavioral interview questions?,Behavioral,General,N/A,GeeksforGeeks,General\\r\\n31,#BHQ32,S stands for Situation. Describe the situation in which the situation happened.,Behavioral,General,N/A,GeeksforGeeks,General\\r\\n32,#BHQ33,T stands for Task. Describe the task you were given to solve the issue at hand.,Behavioral,General,N/A,GeeksforGeeks,General\\r\\n33,#BHQ34,A stands for Action. Describe the action you took to achieve the aforementioned task.,Behavioral,General,N/A,GeeksforGeeks,General\\r\\n34,#BHQ35,R stands for Results. Discuss the result of your actions in as much detail as possible. How did your actions help the company or organization run more smoothly?,Behavioral,General,N/A,GeeksforGeeks,General\\r\\n35,#BHQ36,What type of question is asked during a behavioral interview?,Behavioral,General,N/A,GeeksforGeeks,General\\r\\n36,#BHQ37,Can you tell me about a time you faced difficulty during project execution and you still successfully executed it?,Behavioral,General,N/A,GeeksforGeeks,General\\r\\n37,#BHQ38,How do you handle animosity between your teammates? How do you resolve internal conflicts?,Behavioral,General,N/A,GeeksforGeeks,General\\r\\n38,#BHQ39,What kind of Experience do you want to share?,Behavioral,General,N/A,GeeksforGeeks,General\\r\\n'"
      ]
     },
     "execution_count": 5,
     "metadata": {},
     "output_type": "execute_result"
    }
   ],
   "source": [
    "df.to_csv()\n"
   ]
  },
  {
   "cell_type": "code",
   "execution_count": null,
   "id": "ec863eef-755e-41a5-828c-aad913a19dcf",
   "metadata": {},
   "outputs": [],
   "source": []
  }
 ],
 "metadata": {
  "kernelspec": {
   "display_name": "Python 3 (ipykernel)",
   "language": "python",
   "name": "python3"
  },
  "language_info": {
   "codemirror_mode": {
    "name": "ipython",
    "version": 3
   },
   "file_extension": ".py",
   "mimetype": "text/x-python",
   "name": "python",
   "nbconvert_exporter": "python",
   "pygments_lexer": "ipython3",
   "version": "3.12.7"
  }
 },
 "nbformat": 4,
 "nbformat_minor": 5
}
